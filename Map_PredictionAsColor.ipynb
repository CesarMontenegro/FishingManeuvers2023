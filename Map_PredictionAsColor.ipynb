{
 "cells": [
  {
   "cell_type": "code",
   "execution_count": 1,
   "metadata": {},
   "outputs": [],
   "source": [
    "import gmplot\n",
    "import pandas as pd\n",
    "import numpy as np\n",
    "import matplotlib.pyplot as plt\n",
    "import os\n",
    "from colour import Color\n",
    "\n",
    "from os import listdir\n",
    "from os.path import isfile, join"
   ]
  },
  {
   "cell_type": "code",
   "execution_count": null,
   "metadata": {},
   "outputs": [],
   "source": []
  },
  {
   "cell_type": "markdown",
   "metadata": {},
   "source": [
    "760028711\n",
    "760038246"
   ]
  },
  {
   "cell_type": "code",
   "execution_count": 2,
   "metadata": {},
   "outputs": [],
   "source": [
    "def replaceFileClean(file):\n",
    "    with open(file, \"r\") as f:\n",
    "        lines = f.readlines()\n",
    "        alreadyFirst=False\n",
    "        indexesToPop = []\n",
    "        for i,line in enumerate(lines):\n",
    "            if \";Date;Timestamp\" in line:\n",
    "                if alreadyFirst:\n",
    "                    indexesToPop.append(i)\n",
    "                else:\n",
    "                    alreadyFirst=True\n",
    "        indexesToPop.reverse()\n",
    "        for i in indexesToPop:\n",
    "            lines.pop(i)\n",
    "    os.remove(file)\n",
    "    with open(file, 'w') as f:\n",
    "        for line in lines:\n",
    "            f.write(line)"
   ]
  },
  {
   "cell_type": "code",
   "execution_count": 3,
   "metadata": {},
   "outputs": [],
   "source": [
    "def read_and_clean_data(file_path):\n",
    "    \"\"\"Read data from CSV file and clean columns.\"\"\"\n",
    "    data = pd.read_csv(file_path, sep=\",\")\n",
    "    data.columns = [\"Date\", \"Timestamp\", \"Longitude\", \"Latitude\", \"p1\", \"p2\", \"p3\", \"p4\"]\n",
    "    data['Date'] = pd.to_datetime(data['Date'], unit='s', errors='coerce')\n",
    "    data['Timestamp'] = pd.to_datetime(data['Timestamp'], unit='s', errors='coerce')\n",
    "    return data\n",
    "\n",
    "def scale_columns(data, columns):\n",
    "    \"\"\"Scale specified columns by multiplying with 100.\"\"\"\n",
    "    for col in columns:\n",
    "        data[col] *= 100\n",
    "\n",
    "def create_map_plotter(data):\n",
    "    \"\"\"Create GoogleMapPlotter object.\"\"\"\n",
    "    initial_lat = data.iloc[0].Latitude\n",
    "    initial_lon = data.iloc[0].Longitude\n",
    "    return gmplot.GoogleMapPlotter(initial_lat, initial_lon, 10, apikey=\"--GMAPS-KEY--\")\n",
    "\n",
    "def filter_data_and_plot_histogram(data):\n",
    "    \"\"\"Filter data and plot histogram.\"\"\"\n",
    "    varToPlot = \"p1\"  # Variable to plot histogram for\n",
    "    data[varToPlot] = data[varToPlot] > 30\n",
    "    data[data[varToPlot] > 2][varToPlot].hist(bins=30)\n",
    "\n",
    "def create_color_gradient(data):\n",
    "    \"\"\"Create color gradient based on a variable.\"\"\"\n",
    "    varToPlot = \"p1\"  # Variable to use for color gradient\n",
    "    green = Color(\"green\")\n",
    "    maxValue = int(data[varToPlot].max()) + 1\n",
    "    colors = list(green.range_to(Color(\"red\"), maxValue))\n",
    "    return [str(colors[int(c)].hex_l) for c in data[varToPlot]]\n",
    "\n",
    "def plot_data_on_map(gmap, data, colors):\n",
    "    \"\"\"Plot data on the map.\"\"\"\n",
    "    start = 0\n",
    "    amount = 20000\n",
    "    gmap.scatter(data.Latitude[start:start + amount], data.Longitude[start:start + amount],\n",
    "                 color=colors[start:start + amount], size=800, marker=False, alpha=0.3)\n",
    "    gmap.plot(data.Latitude[start:start + amount], data.Longitude[start:start + amount], color='#444444')\n",
    "\n",
    "def save_map_plot(gmap, file_path):\n",
    "    \"\"\"Save the map plot to an HTML file.\"\"\"\n",
    "    gmap.draw(f'Map_Predictions_{file_path.split(\"_\")[-2]}.html')"
   ]
  },
  {
   "cell_type": "code",
   "execution_count": 4,
   "metadata": {},
   "outputs": [],
   "source": [
    "def generateMap(mmsiFile1):\n",
    "\n",
    "    # Replace file with clean version\n",
    "    replaceFileClean(mmsiFile1)\n",
    "    \n",
    "    # Read data from file and clean columns\n",
    "    data1 = read_and_clean_data(mmsiFile1)\n",
    "    \n",
    "    # Scale columns p1, p2, p3, p4\n",
    "    scale_columns(data1, [\"p1\", \"p2\", \"p3\", \"p4\"])\n",
    "\n",
    "    # Create the map plotter\n",
    "    gmap = create_map_plotter(data1)\n",
    "\n",
    "    # Filter data and plot histogram\n",
    "    filter_data_and_plot_histogram(data1)\n",
    "\n",
    "    # Create color gradient\n",
    "    colors = create_color_gradient(data1)\n",
    "\n",
    "    # Plot data on map\n",
    "    plot_data_on_map(gmap, data1, colors)\n",
    "\n",
    "    # Draw the map\n",
    "    save_map_plot(gmap, mmsiFile1)"
   ]
  },
  {
   "cell_type": "code",
   "execution_count": 5,
   "metadata": {},
   "outputs": [
    {
     "name": "stdout",
     "output_type": "stream",
     "text": [
      "predictions_path/440686000_2022_02_predictions.txt\n"
     ]
    },
    {
     "data": {
      "image/png": "[encoded data removed]",
      "text/plain": [
       "<Figure size 432x288 with 1 Axes>"
      ]
     },
     "metadata": {
      "needs_background": "light"
     },
     "output_type": "display_data"
    }
   ],
   "source": [
    "mmsi = \"1234\"\n",
    "varToPlot=\"p1\"\n",
    "\n",
    "\n",
    "pathRaw=\"predictions_path/\"\n",
    "onlyfiles = [join(pathRaw, f) for f in listdir(pathRaw) if isfile(join(pathRaw, f)) and mmsi in f]\n",
    "for file in onlyfiles:\n",
    "    print(file)\n",
    "    generateMap(file)"
   ]
  },
  {
   "cell_type": "code",
   "execution_count": null,
   "metadata": {},
   "outputs": [],
   "source": []
  }
 ],
 "metadata": {
  "kernelspec": {
   "display_name": "Python 3",
   "language": "python",
   "name": "python3"
  },
  "language_info": {
   "codemirror_mode": {
    "name": "ipython",
    "version": 3
   },
   "file_extension": ".py",
   "mimetype": "text/x-python",
   "name": "python",
   "nbconvert_exporter": "python",
   "pygments_lexer": "ipython3",
   "version": "3.8.10"
  }
 },
 "nbformat": 4,
 "nbformat_minor": 4
}
